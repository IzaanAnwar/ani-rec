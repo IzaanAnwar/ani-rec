{
 "cells": [
  {
   "cell_type": "code",
   "execution_count": 12,
   "metadata": {},
   "outputs": [],
   "source": [
    "import json as JSON\n",
    "import pandas as pd\n",
    "OUTPUT_DIR = \"/home/izaan/Projects/ani-rec/src/anime-data\""
   ]
  },
  {
   "cell_type": "code",
   "execution_count": 13,
   "metadata": {},
   "outputs": [],
   "source": [
    "json_file = JSON.load(open(\"/home/izaan/Projects/ani-rec/lib/anime-data/anime-data.json\"))"
   ]
  },
  {
   "cell_type": "code",
   "execution_count": 29,
   "metadata": {},
   "outputs": [],
   "source": [
    "df = pd.DataFrame(json_file[\"data\"])"
   ]
  },
  {
   "cell_type": "code",
   "execution_count": 30,
   "metadata": {},
   "outputs": [
    {
     "data": {
      "text/plain": [
       "Index(['title', 'type', 'episodes', 'status', 'animeSeason', 'picture',\n",
       "       'synonyms', 'tags'],\n",
       "      dtype='object')"
      ]
     },
     "execution_count": 30,
     "metadata": {},
     "output_type": "execute_result"
    }
   ],
   "source": [
    "df.drop(columns=[\"sources\", \"thumbnail\", \"relations\"], inplace=True)\n",
    "df.columns"
   ]
  },
  {
   "cell_type": "code",
   "execution_count": 32,
   "metadata": {},
   "outputs": [
    {
     "data": {
      "text/plain": [
       "0             {'season': 'FALL', 'year': 2020}\n",
       "1           {'season': 'SUMMER', 'year': 2013}\n",
       "2           {'season': 'WINTER', 'year': 1970}\n",
       "3           {'season': 'WINTER', 'year': 2018}\n",
       "4             {'season': 'FALL', 'year': 2009}\n",
       "                         ...                  \n",
       "32288       {'season': 'WINTER', 'year': 2010}\n",
       "32289       {'season': 'SUMMER', 'year': 2023}\n",
       "32290    {'season': 'UNDEFINED', 'year': 2022}\n",
       "32291    {'season': 'UNDEFINED', 'year': None}\n",
       "32292    {'season': 'UNDEFINED', 'year': 2021}\n",
       "Name: animeSeason, Length: 32293, dtype: object"
      ]
     },
     "execution_count": 32,
     "metadata": {},
     "output_type": "execute_result"
    }
   ],
   "source": [
    "dt = df[\"animeSeason\"]\n",
    "dt"
   ]
  },
  {
   "cell_type": "code",
   "execution_count": 6,
   "metadata": {},
   "outputs": [],
   "source": [
    "df[\"title\"] = df[\"title\"].str.replace('\"', '', regex=False)\n",
    "sample_data = df.head()"
   ]
  },
  {
   "cell_type": "code",
   "execution_count": 7,
   "metadata": {},
   "outputs": [],
   "source": [
    "data_list = df.to_dict(orient=\"records\")\n",
    "sample_data = sample_data.to_dict(orient=\"records\")"
   ]
  },
  {
   "cell_type": "code",
   "execution_count": 8,
   "metadata": {},
   "outputs": [],
   "source": [
    "json_string = pd.Series(data_list).to_json(orient=\"records\")\n",
    "sample_data = pd.Series(sample_data).to_json(orient=\"records\")"
   ]
  },
  {
   "cell_type": "code",
   "execution_count": 9,
   "metadata": {},
   "outputs": [
    {
     "name": "stdout",
     "output_type": "stream",
     "text": [
      "Data has been exported to /home/izaan/Projects/ani-rec/src/anime-data\n"
     ]
    }
   ],
   "source": [
    "with open (f\"{OUTPUT_DIR}/sampledata.json\", \"w\") as file:\n",
    "    file.write(sample_data)\n",
    "print(f'Data has been exported to {OUTPUT_DIR}')"
   ]
  }
 ],
 "metadata": {
  "kernelspec": {
   "display_name": "Python 3",
   "language": "python",
   "name": "python3"
  },
  "language_info": {
   "codemirror_mode": {
    "name": "ipython",
    "version": 3
   },
   "file_extension": ".py",
   "mimetype": "text/x-python",
   "name": "python",
   "nbconvert_exporter": "python",
   "pygments_lexer": "ipython3",
   "version": "3.10.12"
  }
 },
 "nbformat": 4,
 "nbformat_minor": 2
}
